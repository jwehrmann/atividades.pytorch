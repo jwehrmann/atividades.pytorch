{
 "cells": [
  {
   "cell_type": "markdown",
   "metadata": {},
   "source": [
    "Tarefa 1: \n",
    "---------\n",
    "* Implementar um classificador linear (apenas o passo de predição). \n",
    "* Usar os pesos carregados para efetuar a classificação do conjunto de teste. \n",
    "* Gerar pesos aleatórios (para W e b) e comparar os resultados.\n",
    "* Recomendável I: implementar ambos esquemas de predição: 1) X = (A, N); e 2) X = (N, A). Onde A é o número de atributos (pixels) e N é o número de instâncias (imagens). \n",
    "* Recomendável II: implemente o k-NN com distâncias L1 (manhattan) e L2 (euclidiana) e compare os resultados. "
   ]
  },
  {
   "cell_type": "code",
   "execution_count": 1,
   "metadata": {},
   "outputs": [],
   "source": [
    "%matplotlib inline\n",
    "import numpy as np\n",
    "import pylab as plt\n",
    "from sklearn.datasets import load_digits\n",
    "from sklearn.model_selection import train_test_split"
   ]
  },
  {
   "cell_type": "markdown",
   "metadata": {},
   "source": [
    "Carregando o dataset de dígitos. Pode ser que demore um pouco, pois a rotina load_digits baixa os dados quando necessário. São 1797 imagens preto e branco com 8 x 8 pixels. "
   ]
  },
  {
   "cell_type": "code",
   "execution_count": 2,
   "metadata": {},
   "outputs": [
    {
     "name": "stdout",
     "output_type": "stream",
     "text": [
      "('X_treino:', (1203, 64))\n",
      "('y_treino:', (1203,))\n",
      "('X_teste :', (594, 64))\n",
      "('y_teste :', (594,))\n"
     ]
    }
   ],
   "source": [
    "# 1797 imagens em grayscale 8 x 8 = 64 pixels\n",
    "# Digitos (Classes): [0, 1, 2, 3, 4, 5, 6, 7, 8, 9]\n",
    "dataset = load_digits(n_class=10)\n",
    "# Obtem as instancias (N X A)\n",
    "X = dataset.data\n",
    "# Obtem as classes (C)\n",
    "y = dataset.target\n",
    "\n",
    "# Divide entre treinamento e teste\n",
    "X_treino, X_teste, y_treino, y_teste = train_test_split(X, y, test_size=0.33, random_state=42)\n",
    "\n",
    "# Normalizacao\n",
    "max_ = X_treino.max()\n",
    "X_treino /= max_\n",
    "X_teste  /= max_\n",
    "\n",
    "# Imprime as dimensoes das matrizes/vetores\n",
    "print('X_treino:', X_treino.shape)\n",
    "print('y_treino:', y_treino.shape)\n",
    "print('X_teste :', X_teste.shape)\n",
    "print('y_teste :', y_teste.shape)"
   ]
  },
  {
   "cell_type": "markdown",
   "metadata": {},
   "source": [
    "Em seguida nós plotamos algumas imagens do treino para verificar se os dados foram carregados corretamente. Não se preocupe se não entender esta parte do código. "
   ]
  },
  {
   "cell_type": "code",
   "execution_count": 3,
   "metadata": {},
   "outputs": [
    {
     "data": {
      "image/png": "[encoded data removed]",
      "text/plain": [
       "<matplotlib.figure.Figure at 0x10d9bef90>"
      ]
     },
     "metadata": {
      "needs_background": "light"
     },
     "output_type": "display_data"
    }
   ],
   "source": [
    "plt.gray() \n",
    "images_and_labels = list(zip(dataset.images, dataset.target))\n",
    "for index, (image, label) in enumerate(images_and_labels[:5]):\n",
    "    plt.subplot(2, 5, index + 1)\n",
    "    plt.axis('off')\n",
    "    plt.imshow(image, cmap=plt.cm.gray_r, interpolation='nearest')\n",
    "    plt.title('Classe: %i' % label)"
   ]
  },
  {
   "cell_type": "markdown",
   "metadata": {},
   "source": [
    "Aqui estão os pesos que você deverá usar para fazer a classificação do treino. "
   ]
  },
  {
   "cell_type": "code",
   "execution_count": 4,
   "metadata": {},
   "outputs": [
    {
     "name": "stdout",
     "output_type": "stream",
     "text": [
      "('W shape', (64, 10))\n",
      "('b shape', (1, 10))\n"
     ]
    }
   ],
   "source": [
    "# Carrega os pesos serializados\n",
    "W, b = np.load('weights.npy', allow_pickle=True)\n",
    "# Imprime as dimensões das matrizes/vetores dos pesos\n",
    "print('W shape', W.shape)\n",
    "print('b shape', b.shape)"
   ]
  },
  {
   "cell_type": "markdown",
   "metadata": {},
   "source": [
    "1) Implemente a predição usando o classificador linear:"
   ]
  },
  {
   "cell_type": "code",
   "execution_count": 5,
   "metadata": {},
   "outputs": [],
   "source": [
    "def predicao(X, W, b):\n",
    "    y_predito = X.dot(W) + b\n",
    "    return y_predito"
   ]
  },
  {
   "cell_type": "code",
   "execution_count": 9,
   "metadata": {},
   "outputs": [
    {
     "name": "stdout",
     "output_type": "stream",
     "text": [
      "('Pred shape', (594, 10))\n"
     ]
    }
   ],
   "source": [
    "pred = predicao(X_teste, W, b)\n",
    "print('Pred shape', pred.shape)"
   ]
  },
  {
   "cell_type": "markdown",
   "metadata": {},
   "source": [
    "2) Implemente uma medida de desempenho como acurácia ou erro de classificação (evite usar sklearn e outras bibliotecas prontas para isso). \n",
    "* Acurácia = Número de acertos / Número de imagens \n",
    "* Erro = Número de erros / Número de imagens\n",
    "* Implemente outras medidas se quiser. \n"
   ]
  },
  {
   "cell_type": "code",
   "execution_count": 10,
   "metadata": {},
   "outputs": [],
   "source": [
    "def avaliar_resultados(y_teste, y_predito):\n",
    "    y_predito = y_predito.argmax(-1)\n",
    "    desempenho = ((y_teste == y_predito).mean())\n",
    "    return desempenho"
   ]
  },
  {
   "cell_type": "code",
   "execution_count": 11,
   "metadata": {},
   "outputs": [
    {
     "name": "stdout",
     "output_type": "stream",
     "text": [
      "('Acuracia classificador pre-treinado', 0.9612794612794613)\n"
     ]
    }
   ],
   "source": [
    "pretrained_eval = avaliar_resultados(y_teste, pred)\n",
    "print('Acuracia classificador pre-treinado', pretrained_eval)"
   ]
  },
  {
   "cell_type": "markdown",
   "metadata": {},
   "source": [
    "3) Teste o desempenho do classificador usando pesos alatórios para a mesma tarefa de classificação e compare os resultados."
   ]
  },
  {
   "cell_type": "code",
   "execution_count": 31,
   "metadata": {},
   "outputs": [],
   "source": [
    "def inicializacao_aleatoria(W, b):\n",
    "    # Seu código aqui\n",
    "    return W, b"
   ]
  },
  {
   "cell_type": "code",
   "execution_count": 33,
   "metadata": {},
   "outputs": [
    {
     "name": "stdout",
     "output_type": "stream",
     "text": [
      "((64, 10), (1, 10))\n",
      "('Acur\\xc3\\xa1cia Classificador Aleatorio: ', 0.12289562289562289)\n"
     ]
    }
   ],
   "source": [
    "rand_W, rand_b = inicializacao_aleatoria(W, b)\n",
    "pred_rand = predicao(X_teste, rand_W, rand_b)\n",
    "random_eval = avaliar_resultados(y_teste, pred_rand)\n",
    "print('Acurácia Classificador Aleatorio: ', random_eval)"
   ]
  }
 ],
 "metadata": {
  "kernelspec": {
   "display_name": "Python 2",
   "language": "python",
   "name": "python2"
  },
  "language_info": {
   "codemirror_mode": {
    "name": "ipython",
    "version": 2
   },
   "file_extension": ".py",
   "mimetype": "text/x-python",
   "name": "python",
   "nbconvert_exporter": "python",
   "pygments_lexer": "ipython2",
   "version": "2.7.16"
  }
 },
 "nbformat": 4,
 "nbformat_minor": 1
}
